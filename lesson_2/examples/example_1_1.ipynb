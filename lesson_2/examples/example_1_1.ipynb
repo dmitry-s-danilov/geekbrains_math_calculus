{
 "cells": [
  {
   "cell_type": "markdown",
   "metadata": {},
   "source": [
    "# Урок 2. Теория множеств. Математическая логика"
   ]
  },
  {
   "cell_type": "markdown",
   "metadata": {},
   "source": [
    "### Пример 1.1\n",
    "\n",
    "Представить в виде обыкновенной дроби:\n",
    "- $ 0.(1) $\n",
    "- $ 0.(2) $\n",
    "- $ 0.(3) $\n",
    "- $ 0.(8) $\n",
    "- $ 0.(9) $"
   ]
  },
  {
   "cell_type": "markdown",
   "metadata": {},
   "source": [
    "Найти:\n",
    "$ p \\in \\mathbb{Z}, q \\in \\mathbb{N} \\colon 0.(1) = \\frac{p}{q} $\n",
    "\n",
    "Решение:\n",
    "\n",
    "$ x = 0.(1) $\n",
    "\n",
    "$ 10 x = 10\\ 0.(1) $\n",
    "\n",
    "$ 10 x = 1.(1) $\n",
    "\n",
    "$ 10 x = 1 + 0.(1) $\n",
    "\n",
    "$ 10 x = 1 + x $\n",
    "\n",
    "$ 9 x = 1 $\n",
    "\n",
    "$ x = \\frac{1}{9} $\n",
    "\n",
    "Ответ:\n",
    "$ 0.(1) = \\frac{1}{9} $"
   ]
  },
  {
   "cell_type": "code",
   "execution_count": 1,
   "metadata": {},
   "outputs": [
    {
     "name": "stdout",
     "output_type": "stream",
     "text": [
      "1 / 9 = 0.1111111111111111\n"
     ]
    }
   ],
   "source": [
    "p, q = 1, 9\n",
    "x = p / q\n",
    "print(f'{p} / {q} = {x}')"
   ]
  },
  {
   "cell_type": "markdown",
   "metadata": {},
   "source": [
    "Найти:\n",
    "$ p \\in \\mathbb{Z}, q \\in \\mathbb{N} \\colon 0.(2) = \\frac{p}{q} $\n",
    "\n",
    "Решение:\n",
    "\n",
    "$ x = 0.(2) $\n",
    "\n",
    "$ 10 x = 10\\ 0.(2) $\n",
    "\n",
    "$ 10 x = 2.(2) $\n",
    "\n",
    "$ 10 x = 2 + 0.(2) $\n",
    "\n",
    "$ 10 x = 2 + x $\n",
    "\n",
    "$ 9 x = 2 $\n",
    "\n",
    "$ x = \\frac{2}{9} $\n",
    "\n",
    "Ответ:\n",
    "$ 0.(2) = \\frac{2}{9} $"
   ]
  },
  {
   "cell_type": "code",
   "execution_count": 2,
   "metadata": {},
   "outputs": [
    {
     "name": "stdout",
     "output_type": "stream",
     "text": [
      "2 / 9 = 0.2222222222222222\n"
     ]
    }
   ],
   "source": [
    "p, q = 2, 9\n",
    "x = p / q\n",
    "print(f'{p} / {q} = {x}')"
   ]
  },
  {
   "cell_type": "markdown",
   "metadata": {},
   "source": [
    "Найти:\n",
    "$ p \\in \\mathbb{Z}, q \\in \\mathbb{N} \\colon 0.(3) = \\frac{p}{q} $\n",
    "\n",
    "Решение:\n",
    "$ x = 0.(3) $\n",
    "\n",
    "$ 10 x = 10\\ 0.(3) $\n",
    "\n",
    "$ 10 x = 3.(3) $\n",
    "\n",
    "$ 10 x = 3 + 0.(3) $\n",
    "\n",
    "$ 10 x = 3 + x $\n",
    "\n",
    "$ 9 x = 3 $\n",
    "\n",
    "$ x = \\frac{3}{9} = \\frac{1}{3}$\n",
    "\n",
    "Ответ:\n",
    "$ 0.(3) = \\frac{1}{3} $"
   ]
  },
  {
   "cell_type": "code",
   "execution_count": 3,
   "metadata": {},
   "outputs": [
    {
     "name": "stdout",
     "output_type": "stream",
     "text": [
      "1 / 3 = 0.3333333333333333\n"
     ]
    }
   ],
   "source": [
    "p, q = 1, 3\n",
    "x = p / q\n",
    "print(f'{p} / {q} = {x}')"
   ]
  },
  {
   "cell_type": "markdown",
   "metadata": {},
   "source": [
    "Найти:\n",
    "$ p \\in \\mathbb{Z}, q \\in \\mathbb{N} \\colon 0.(8) = \\frac{p}{q} $\n",
    "\n",
    "Решение:\n",
    "\n",
    "$ x = 0.(8) $\n",
    "\n",
    "$ 10 x = 10\\ 0.(8) $\n",
    "\n",
    "$ 10 x = 8.(8) $\n",
    "\n",
    "$ 10 x = 8 + 0.(8) $\n",
    "\n",
    "$ 10 x = 8 + x $\n",
    "\n",
    "$ 9 x = 8 $\n",
    "\n",
    "$ x = \\frac{8}{9} $\n",
    "\n",
    "Ответ:\n",
    "$ 0.(8) = \\frac{8}{9} $"
   ]
  },
  {
   "cell_type": "code",
   "execution_count": 4,
   "metadata": {},
   "outputs": [
    {
     "name": "stdout",
     "output_type": "stream",
     "text": [
      "8 / 9 = 0.8888888888888888\n"
     ]
    }
   ],
   "source": [
    "p, q = 8, 9\n",
    "x = p / q\n",
    "print(f'{p} / {q} = {x}')"
   ]
  },
  {
   "cell_type": "markdown",
   "metadata": {},
   "source": [
    "Найти:\n",
    "$ p \\in \\mathbb{Z}, q \\in \\mathbb{N} \\colon 0.(9) = \\frac{p}{q} $\n",
    "\n",
    "Решение:\n",
    "\n",
    "$ x = 0.(9) $\n",
    "\n",
    "$ 10 x = 10\\ 0.(9) $\n",
    "\n",
    "$ 10 x = 9.(9) $\n",
    "\n",
    "$ 10 x = 9 + 0.(9) $\n",
    "\n",
    "$ 10 x = 9 + x $\n",
    "\n",
    "$ 9 x = 9 $\n",
    "\n",
    "$ x = 1 $\n",
    "\n",
    "Ответ:\n",
    "$ 0.(9) = 1 $"
   ]
  }
 ],
 "metadata": {
  "kernelspec": {
   "display_name": "Python 3",
   "language": "python",
   "name": "python3"
  },
  "language_info": {
   "codemirror_mode": {
    "name": "ipython",
    "version": 3
   },
   "file_extension": ".py",
   "mimetype": "text/x-python",
   "name": "python",
   "nbconvert_exporter": "python",
   "pygments_lexer": "ipython3",
   "version": "3.8.6"
  }
 },
 "nbformat": 4,
 "nbformat_minor": 4
}
