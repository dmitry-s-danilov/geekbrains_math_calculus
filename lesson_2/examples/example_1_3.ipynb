{
 "cells": [
  {
   "cell_type": "markdown",
   "metadata": {},
   "source": [
    "# Урок 2. Теория множеств. Математическая логика"
   ]
  },
  {
   "cell_type": "markdown",
   "metadata": {},
   "source": [
    "### Пример 1.3\n",
    "\n",
    "Представить в виде обыкновенной дроби:\n",
    "- $ 1.3(18) $\n",
    "- $ 1.32(1) $\n",
    "- $ 1.32(18) $"
   ]
  },
  {
   "cell_type": "markdown",
   "metadata": {},
   "source": [
    "Найти:\n",
    "$ p \\in \\mathbb{Z}, q \\in \\mathbb{N} \\colon 1.3(18) = \\frac{p}{q} $\n",
    "\n",
    "Решение:\n",
    "\n",
    "$ x = 1.3(18) $\n",
    "\n",
    "$ 10 x = 10\\ 1.3(18) $\n",
    "\n",
    "$ 10 x = 13.(18) $\n",
    "\n",
    "$ 10 x = 13 + 0.(18) $\n",
    "\n",
    "$ 10 x = 13 + y $\n",
    "\n",
    "$ x = \\frac{13 + y}{10} = 1 + \\frac{3 + y}{10} $\n",
    "\n",
    "\n",
    "$ y = 0.(18) $\n",
    "\n",
    "$ 10^2 y = 10^2\\ 0.(18) $\n",
    "\n",
    "$ 10^2 y = 18.(18) $\n",
    "\n",
    "$ 10^2 y = 18 + 0.(18) $\n",
    "\n",
    "$ 10^2 y = 18 + y $\n",
    "\n",
    "$ 99 y = 18 $\n",
    "\n",
    "$ y = \\frac{18}{99} = \\frac{2}{11} $\n",
    "\n",
    "\n",
    "$ 3 + y = 3 + \\frac{2}{11} = \\frac{35}{11} $\n",
    "\n",
    "$ x = 1 + \\frac{3 + y}{10} = 1 + \\frac{7}{22} $\n",
    "\n",
    "Ответ:\n",
    "$ 1.3(18) = 1 + \\frac{7}{22} $"
   ]
  },
  {
   "cell_type": "code",
   "execution_count": 1,
   "metadata": {},
   "outputs": [
    {
     "name": "stdout",
     "output_type": "stream",
     "text": [
      "7 / 22 = 0.3181818181818182\n"
     ]
    }
   ],
   "source": [
    "p, q = 7, 22\n",
    "x = p / q\n",
    "print(f'{p} / {q} = {x}')"
   ]
  },
  {
   "cell_type": "markdown",
   "metadata": {},
   "source": [
    "Найти:\n",
    "$ p \\in \\mathbb{Z}, q \\in \\mathbb{N} \\colon 1.32(1) = \\frac{p}{q} $\n",
    "\n",
    "Решение:\n",
    "\n",
    "$ x = 1.32(1) $\n",
    "\n",
    "$ 10^2 x = 10^2\\ 1.32(1) $\n",
    "\n",
    "$ 10^2 x = 132.(1) $\n",
    "\n",
    "$ 10^2 x = 132 + 0.(1) $\n",
    "\n",
    "$ 10^2 x = 132 + y $\n",
    "\n",
    "$ x = \\frac{132 + y}{100} = 1 + \\frac{32 + y}{100} $\n",
    "\n",
    "\n",
    "$ y = 0.(1) $\n",
    "\n",
    "$ 10 y = 10\\ 0.(1) $\n",
    "\n",
    "$ 10 y = 1.(1) $\n",
    "\n",
    "$ 10 y = 1 + 0.(1) $\n",
    "\n",
    "$ 10 y = 1 + y $\n",
    "\n",
    "$ 9 y = 1 $\n",
    "\n",
    "$ y = \\frac{1}{9} $\n",
    "\n",
    "\n",
    "$ 32 + y = 32 + \\frac{1}{9} = \\frac{289}{9} $\n",
    "\n",
    "$ x = 1 + \\frac{32 + y}{100} = 1 + \\frac{289}{900} $\n",
    "\n",
    "Ответ:\n",
    "$ 1.32(1) = 1 + \\frac{289}{900} $"
   ]
  },
  {
   "cell_type": "code",
   "execution_count": 2,
   "metadata": {},
   "outputs": [
    {
     "name": "stdout",
     "output_type": "stream",
     "text": [
      "289 / 900 = 0.3211111111111111\n"
     ]
    }
   ],
   "source": [
    "p, q = 289, 900\n",
    "x = p / q\n",
    "print(f'{p} / {q} = {x}')"
   ]
  },
  {
   "cell_type": "markdown",
   "metadata": {},
   "source": [
    "Найти:\n",
    "$ p \\in \\mathbb{Z}, q \\in \\mathbb{N} \\colon 1.32(18) = \\frac{p}{q} $\n",
    "\n",
    "Решение:\n",
    "\n",
    "$ x = 1.32(18) $\n",
    "\n",
    "$ 10^2 x = 10^2\\ 1.32(18) $\n",
    "\n",
    "$ 10^2 x = 132.(18) $\n",
    "\n",
    "$ 10^2 x = 132 + 0.(18) $\n",
    "\n",
    "$ 10^2 x = 132 + y $\n",
    "\n",
    "$ x = \\frac{132 + y}{100} = 1 + \\frac{32 + y}{100} $\n",
    "\n",
    "\n",
    "$ y = 0.(18) $\n",
    "\n",
    "$ 10^2 y = 10^2\\ 0.(18) $\n",
    "\n",
    "$ 10^2 y = 18.(18) $\n",
    "\n",
    "$ 10^2 y = 18 + 0.(18) $\n",
    "\n",
    "$ 10^2 y = 18 + y $\n",
    "\n",
    "$ 99 y = 18 $\n",
    "\n",
    "$ y = \\frac{18}{99} = \\frac{2}{11} $\n",
    "\n",
    "\n",
    "$ 32 + y = 32 + \\frac{2}{11} = \\frac{2 ~ 177}{11} $\n",
    "\n",
    "$ x = 1 + \\frac{32 + y}{100} = 1 + \\frac{177}{550} $\n",
    "\n",
    "Ответ:\n",
    "$ 1.32(18) = 1 + \\frac{177}{550} $"
   ]
  },
  {
   "cell_type": "code",
   "execution_count": 3,
   "metadata": {},
   "outputs": [
    {
     "name": "stdout",
     "output_type": "stream",
     "text": [
      "177 / 550 = 0.32181818181818184\n"
     ]
    }
   ],
   "source": [
    "p, q = 177, 550\n",
    "x = p / q\n",
    "print(f'{p} / {q} = {x}')"
   ]
  }
 ],
 "metadata": {
  "kernelspec": {
   "display_name": "Python 3",
   "language": "python",
   "name": "python3"
  },
  "language_info": {
   "codemirror_mode": {
    "name": "ipython",
    "version": 3
   },
   "file_extension": ".py",
   "mimetype": "text/x-python",
   "name": "python",
   "nbconvert_exporter": "python",
   "pygments_lexer": "ipython3",
   "version": "3.8.6"
  }
 },
 "nbformat": 4,
 "nbformat_minor": 4
}
