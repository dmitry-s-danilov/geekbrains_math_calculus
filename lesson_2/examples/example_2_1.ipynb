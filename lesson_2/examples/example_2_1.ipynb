{
 "cells": [
  {
   "cell_type": "markdown",
   "metadata": {},
   "source": [
    "# Урок 2. Теория множеств. Математическая логика\n",
    "\n",
    "\n",
    "## Пример 2.1. Логика высказываний"
   ]
  },
  {
   "cell_type": "markdown",
   "metadata": {},
   "source": [
    "### Операции над высказываниями\n",
    "\n",
    "#### Отрицание\n",
    "\n",
    "<table>\n",
    "    <thead>\n",
    "        <tr>\n",
    "            <th>$A$</th>\n",
    "            <th>$\\lnot A$</th>\n",
    "        </tr>\n",
    "    </thead>\n",
    "    <tbody>\n",
    "        <tr>\n",
    "            <td>$0$</td>\n",
    "            <td>$1$</td>\n",
    "        </tr>\n",
    "        <tr>\n",
    "            <td>$1$</td>\n",
    "            <td>$0$</td>\n",
    "        </tr>\n",
    "    </tbody>\n",
    "</table>\n",
    "\n",
    "#### Конъюнкция\n",
    "\n",
    "<table>\n",
    "    <thead>\n",
    "        <tr>\n",
    "            <th>$A$</th>\n",
    "            <th>$B$</th>\n",
    "            <th>$A \\wedge B$</th>\n",
    "        </tr>\n",
    "    </thead>\n",
    "    <tbody>\n",
    "        <tr>\n",
    "            <td>$0$</td>\n",
    "            <td>$0$</td>\n",
    "            <td>$0$</td>\n",
    "        </tr>\n",
    "        <tr>\n",
    "            <td>$0$</td>\n",
    "            <td>$1$</td>\n",
    "            <td>$0$</td>\n",
    "        </tr>\n",
    "        <tr>\n",
    "            <td>$1$</td>\n",
    "            <td>$0$</td>\n",
    "            <td>$0$</td>\n",
    "        </tr>\n",
    "        <tr>\n",
    "            <td>$1$</td>\n",
    "            <td>$1$</td>\n",
    "            <td>$1$</td>\n",
    "        </tr>\n",
    "    </tbody>\n",
    "</table>\n",
    "\n",
    "#### Дизъюнкция\n",
    "\n",
    "<table>\n",
    "    <thead>\n",
    "        <tr>\n",
    "            <th>$A$</th>\n",
    "            <th>$B$</th>\n",
    "            <th>$A \\vee B$</th>\n",
    "        </tr>\n",
    "    </thead>\n",
    "    <tbody>\n",
    "        <tr>\n",
    "            <td>$0$</td>\n",
    "            <td>$0$</td>\n",
    "            <td>$0$</td>\n",
    "        </tr>\n",
    "        <tr>\n",
    "            <td>$0$</td>\n",
    "            <td>$1$</td>\n",
    "            <td>$1$</td>\n",
    "        </tr>\n",
    "        <tr>\n",
    "            <td>$1$</td>\n",
    "            <td>$0$</td>\n",
    "            <td>$1$</td>\n",
    "        </tr>\n",
    "        <tr>\n",
    "            <td>$1$</td>\n",
    "            <td>$1$</td>\n",
    "            <td>$1$</td>\n",
    "        </tr>\n",
    "    </tbody>\n",
    "</table>\n",
    "\n",
    "#### Имликация\n",
    "\n",
    "<table>\n",
    "    <thead>\n",
    "        <tr>\n",
    "            <th>$A$</th>\n",
    "            <th>$B$</th>\n",
    "            <th>$A \\Rightarrow B$</th>\n",
    "        </tr>\n",
    "    </thead>\n",
    "    <tbody>\n",
    "        <tr>\n",
    "            <td>$0$</td>\n",
    "            <td>$0$</td>\n",
    "            <td>$1$</td>\n",
    "        </tr>\n",
    "        <tr>\n",
    "            <td>$0$</td>\n",
    "            <td>$1$</td>\n",
    "            <td>$1$</td>\n",
    "        </tr>\n",
    "        <tr>\n",
    "            <td>$1$</td>\n",
    "            <td>$0$</td>\n",
    "            <td>$0$</td>\n",
    "        </tr>\n",
    "        <tr>\n",
    "            <td>$1$</td>\n",
    "            <td>$1$</td>\n",
    "            <td>$1$</td>\n",
    "        </tr>\n",
    "    </tbody>\n",
    "</table>\n",
    "\n",
    "#### Эквиваленция\n",
    "\n",
    "<table>\n",
    "    <thead>\n",
    "        <tr>\n",
    "            <th>$A$</th>\n",
    "            <th>$B$</th>\n",
    "            <th>$A \\Leftrightarrow B$</th>\n",
    "        </tr>\n",
    "    </thead>\n",
    "    <tbody>\n",
    "        <tr>\n",
    "            <td>$0$</td>\n",
    "            <td>$0$</td>\n",
    "            <td>$1$</td>\n",
    "        </tr>\n",
    "        <tr>\n",
    "            <td>$0$</td>\n",
    "            <td>$1$</td>\n",
    "            <td>$0$</td>\n",
    "        </tr>\n",
    "        <tr>\n",
    "            <td>$1$</td>\n",
    "            <td>$0$</td>\n",
    "            <td>$0$</td>\n",
    "        </tr>\n",
    "        <tr>\n",
    "            <td>$1$</td>\n",
    "            <td>$1$</td>\n",
    "            <td>$1$</td>\n",
    "        </tr>\n",
    "    </tbody>\n",
    "</table>\n",
    "\n",
    "#### Исключающее или\n",
    "\n",
    "<table>\n",
    "    <thead>\n",
    "        <tr>\n",
    "            <th>$A$</th>\n",
    "            <th>$B$</th>\n",
    "            <th>$A \\oplus B$</th>\n",
    "        </tr>\n",
    "    </thead>\n",
    "    <tbody>\n",
    "        <tr>\n",
    "            <td>$0$</td>\n",
    "            <td>$0$</td>\n",
    "            <td>$0$</td>\n",
    "        </tr>\n",
    "        <tr>\n",
    "            <td>$0$</td>\n",
    "            <td>$1$</td>\n",
    "            <td>$1$</td>\n",
    "        </tr>\n",
    "        <tr>\n",
    "            <td>$1$</td>\n",
    "            <td>$0$</td>\n",
    "            <td>$1$</td>\n",
    "        </tr>\n",
    "        <tr>\n",
    "            <td>$1$</td>\n",
    "            <td>$1$</td>\n",
    "            <td>$0$</td>\n",
    "        </tr>\n",
    "    </tbody>\n",
    "</table>"
   ]
  },
  {
   "cell_type": "markdown",
   "metadata": {},
   "source": [
    "### Основные законы логики высказываний\n",
    "\n",
    "- Операция с ложным высказыванием\n",
    "    - для конъюнкции:\n",
    "    $A \\wedge 0 \\Leftrightarrow 0$\n",
    "    - для дизъюнкции:\n",
    "    $A \\vee 0 \\Leftrightarrow A$\n",
    "\n",
    "- Операция с истенным высказыванием\n",
    "    - для конъюнкции:\n",
    "    $A \\wedge 1 \\Leftrightarrow A$\n",
    "    - для дизъюнкции:\n",
    "    $A \\vee 1 \\Leftrightarrow 1$\n",
    "\n",
    "- Закон идемпотентности\n",
    "    - для конъюнкции:\n",
    "    $A \\wedge A \\Leftrightarrow A$\n",
    "    - для дизъюнкции:\n",
    "    $A \\vee A \\Leftrightarrow A$\n",
    "\n",
    "- Операция с отрицанием\n",
    "    - для конъюнкции (закон противоречия):\n",
    "    $A \\wedge \\lnot A \\Leftrightarrow 0$\n",
    "    - для дизъюнкции (закон исключения третьего):\n",
    "    $A \\vee \\lnot A \\Leftrightarrow 1$\n",
    "\n",
    "- Закон двойного отрицания:\n",
    "    - $\\lnot (\\lnot A) \\Leftrightarrow A$\n",
    "\n",
    "- Закон де Моргана\n",
    "    - относительно конъюнкции:\n",
    "    $\\lnot (A \\wedge B) \\Leftrightarrow \\lnot A \\vee \\lnot B$\n",
    "    - относительно дизъюнкции:\n",
    "    $\\lnot (A \\vee B) \\Leftrightarrow \\lnot A \\wedge \\lnot B$\n",
    "\n",
    "- Коммутативность\n",
    "    - конъюнкции:\n",
    "    $A \\wedge B \\Leftrightarrow B \\wedge A$\n",
    "    - дизъюнкции:\n",
    "    $A \\vee B \\Leftrightarrow B \\vee A$\n",
    "\n",
    "- Ассоциативность\n",
    "    - конъюнкции:\n",
    "    $A \\wedge (B \\wedge C) \\Leftrightarrow (A \\wedge B) \\wedge C$\n",
    "    - дизъюнкции:\n",
    "    $A \\vee (B \\vee C) \\Leftrightarrow (A \\vee  B) \\vee C$\n",
    " \n",
    "- Дистрибутивность\n",
    "    - конъюнкции относительно дизъюнкции:\n",
    "    $A \\wedge (B \\vee C) \\Leftrightarrow (A \\wedge B) \\vee (A \\wedge C)$\n",
    "    - дизъюнкции относительно конъюнкции:\n",
    "    $A \\vee (B \\wedge C) \\Leftrightarrow (A \\vee B) \\wedge (A \\vee C)$\n",
    "\n",
    "- Закон поглощения\n",
    "    - для конъюнкции:\n",
    "    $A \\wedge (A \\vee B) \\Leftrightarrow A$\n",
    "    - для дизъюнкции:\n",
    "    $A \\vee (A \\wedge B) \\Leftrightarrow A$"
   ]
  },
  {
   "cell_type": "markdown",
   "metadata": {},
   "source": [
    "### Проверка законов логики высказываний"
   ]
  },
  {
   "cell_type": "code",
   "execution_count": 1,
   "metadata": {},
   "outputs": [],
   "source": [
    "def check_constructions(constructions, elementaries):\n",
    "    compositions = [\n",
    "        [construction(*_) for _ in zip(*elementaries)]\n",
    "        for construction in constructions\n",
    "    ]\n",
    "\n",
    "    equivalence = all(\n",
    "        [\n",
    "            all([_ == statements[0] for _ in statements[1:]])\n",
    "            for statements in zip(*compositions)\n",
    "        ]\n",
    "    )\n",
    "\n",
    "    return equivalence, compositions[0] if equivalence else compositions\n",
    "\n",
    "def print_statements(elementaries, composition):\n",
    "    print(f'elementary statements: {len(elementaries)}')\n",
    "    for _ in enumerate(elementaries, 1):\n",
    "        print('{}: {}'.format(*_))        \n",
    "    print('composed statement: {}\\n{}'.format(*composition))"
   ]
  },
  {
   "cell_type": "markdown",
   "metadata": {},
   "source": [
    "#### Логические операции с двумя высказываниями"
   ]
  },
  {
   "cell_type": "code",
   "execution_count": 2,
   "metadata": {},
   "outputs": [],
   "source": [
    "elementaries = (\n",
    "    (0, 0, 1, 1),\n",
    "    (0, 1, 0, 1)\n",
    ")"
   ]
  },
  {
   "cell_type": "markdown",
   "metadata": {},
   "source": [
    "Закон де Моргана относительно конъюнкции:\n",
    "$\\lnot (A \\wedge B) = \\lnot A \\vee \\lnot B$"
   ]
  },
  {
   "cell_type": "code",
   "execution_count": 3,
   "metadata": {},
   "outputs": [
    {
     "name": "stdout",
     "output_type": "stream",
     "text": [
      "elementary statements: 2\n",
      "1: (0, 0, 1, 1)\n",
      "2: (0, 1, 0, 1)\n",
      "composed statement: True\n",
      "[1, 1, 1, 0]\n"
     ]
    }
   ],
   "source": [
    "constructions = (\n",
    "    lambda A, B: int(not (A and B)),\n",
    "    lambda A, B: int(not A or not B)\n",
    ")\n",
    "\n",
    "print_statements(\n",
    "    elementaries,\n",
    "    check_constructions(constructions, elementaries)\n",
    ")"
   ]
  },
  {
   "cell_type": "markdown",
   "metadata": {},
   "source": [
    "Закон де Моргана относительно дизъюнкции:\n",
    "$\\lnot (A \\vee B) = \\lnot A \\wedge \\lnot B$"
   ]
  },
  {
   "cell_type": "code",
   "execution_count": 4,
   "metadata": {},
   "outputs": [
    {
     "name": "stdout",
     "output_type": "stream",
     "text": [
      "elementary statements: 2\n",
      "1: (0, 0, 1, 1)\n",
      "2: (0, 1, 0, 1)\n",
      "composed statement: True\n",
      "[1, 0, 0, 0]\n"
     ]
    }
   ],
   "source": [
    "constructions = (\n",
    "    lambda A, B: int(not (A or B)),\n",
    "    lambda A, B: int(not A and not B)\n",
    ")\n",
    "\n",
    "print_statements(\n",
    "    elementaries,\n",
    "    check_constructions(constructions, elementaries)\n",
    ")"
   ]
  },
  {
   "cell_type": "markdown",
   "metadata": {},
   "source": [
    "Коммутативность конъюнкции:\n",
    "$A \\wedge B \\Leftrightarrow B \\wedge A$"
   ]
  },
  {
   "cell_type": "code",
   "execution_count": 5,
   "metadata": {},
   "outputs": [
    {
     "name": "stdout",
     "output_type": "stream",
     "text": [
      "elementary statements: 2\n",
      "1: (0, 0, 1, 1)\n",
      "2: (0, 1, 0, 1)\n",
      "composed statement: True\n",
      "[0, 0, 0, 1]\n"
     ]
    }
   ],
   "source": [
    "constructions = (\n",
    "    lambda A, B: A and B,\n",
    "    lambda A, B: B and A\n",
    ")\n",
    "\n",
    "print_statements(\n",
    "    elementaries,\n",
    "    check_constructions(constructions, elementaries)\n",
    ")"
   ]
  },
  {
   "cell_type": "markdown",
   "metadata": {},
   "source": [
    "Коммутативность дизъюнкции:\n",
    "$A \\vee B \\Leftrightarrow B \\vee A$"
   ]
  },
  {
   "cell_type": "code",
   "execution_count": 6,
   "metadata": {},
   "outputs": [
    {
     "name": "stdout",
     "output_type": "stream",
     "text": [
      "elementary statements: 2\n",
      "1: (0, 0, 1, 1)\n",
      "2: (0, 1, 0, 1)\n",
      "composed statement: True\n",
      "[0, 1, 1, 1]\n"
     ]
    }
   ],
   "source": [
    "constructions = (\n",
    "    lambda A, B: A or B,\n",
    "    lambda A, B: B or A\n",
    ")\n",
    "\n",
    "print_statements(\n",
    "    elementaries,\n",
    "    check_constructions(constructions, elementaries)\n",
    ")"
   ]
  },
  {
   "cell_type": "markdown",
   "metadata": {},
   "source": [
    "#### Логические операции с тремя высказываниями"
   ]
  },
  {
   "cell_type": "code",
   "execution_count": 7,
   "metadata": {},
   "outputs": [],
   "source": [
    "elementaries = (\n",
    "    (0, 0, 0, 0, 1, 1, 1, 1),\n",
    "    (0, 0, 1, 1, 0, 0, 1, 1),\n",
    "    (0, 1, 0, 1, 0, 1, 0, 1)\n",
    ")"
   ]
  },
  {
   "cell_type": "markdown",
   "metadata": {},
   "source": [
    "Ассоциативность конъюнкции:\n",
    "$A \\wedge (B \\wedge C) = (A \\wedge B) \\wedge C$"
   ]
  },
  {
   "cell_type": "code",
   "execution_count": 8,
   "metadata": {},
   "outputs": [
    {
     "name": "stdout",
     "output_type": "stream",
     "text": [
      "elementary statements: 3\n",
      "1: (0, 0, 0, 0, 1, 1, 1, 1)\n",
      "2: (0, 0, 1, 1, 0, 0, 1, 1)\n",
      "3: (0, 1, 0, 1, 0, 1, 0, 1)\n",
      "composed statement: True\n",
      "[0, 0, 0, 0, 0, 0, 0, 1]\n"
     ]
    }
   ],
   "source": [
    "constructions = (\n",
    "    lambda A, B, C: A and (B and C),\n",
    "    lambda A, B, C: (A and B) and C\n",
    ")\n",
    "\n",
    "print_statements(\n",
    "    elementaries,\n",
    "    check_constructions(constructions, elementaries)\n",
    ")"
   ]
  },
  {
   "cell_type": "markdown",
   "metadata": {},
   "source": [
    "Ассоциативность дизъюнкции:\n",
    "$ A \\vee (B \\vee C) = (A \\vee B) \\vee C $"
   ]
  },
  {
   "cell_type": "code",
   "execution_count": 9,
   "metadata": {},
   "outputs": [
    {
     "name": "stdout",
     "output_type": "stream",
     "text": [
      "elementary statements: 3\n",
      "1: (0, 0, 0, 0, 1, 1, 1, 1)\n",
      "2: (0, 0, 1, 1, 0, 0, 1, 1)\n",
      "3: (0, 1, 0, 1, 0, 1, 0, 1)\n",
      "composed statement: True\n",
      "[0, 1, 1, 1, 1, 1, 1, 1]\n"
     ]
    }
   ],
   "source": [
    "constructions = (\n",
    "    lambda A, B, C: A or (B or C),\n",
    "    lambda A, B, C: (A or B) or C\n",
    ")\n",
    "\n",
    "print_statements(\n",
    "    elementaries,\n",
    "    check_constructions(constructions, elementaries)\n",
    ")"
   ]
  },
  {
   "cell_type": "markdown",
   "metadata": {},
   "source": [
    "Дистрибутивность конъюнкции относительно дизъюнкции:\n",
    "$A \\wedge (B \\vee C) \\Leftrightarrow (A \\wedge B) \\vee (A \\wedge C)$"
   ]
  },
  {
   "cell_type": "code",
   "execution_count": 10,
   "metadata": {},
   "outputs": [
    {
     "name": "stdout",
     "output_type": "stream",
     "text": [
      "elementary statements: 3\n",
      "1: (0, 0, 0, 0, 1, 1, 1, 1)\n",
      "2: (0, 0, 1, 1, 0, 0, 1, 1)\n",
      "3: (0, 1, 0, 1, 0, 1, 0, 1)\n",
      "composed statement: True\n",
      "[0, 0, 0, 0, 0, 1, 1, 1]\n"
     ]
    }
   ],
   "source": [
    "constructions = (\n",
    "    lambda A, B, C: A and (B or C),\n",
    "    lambda A, B, C: (A and B) or (A and C)\n",
    ")\n",
    "\n",
    "print_statements(\n",
    "    elementaries,\n",
    "    check_constructions(constructions, elementaries)\n",
    ")"
   ]
  },
  {
   "cell_type": "markdown",
   "metadata": {},
   "source": [
    "Дистрибутивность дизъюнкции относительно конъюнкции:\n",
    "$A \\vee (B \\wedge C) \\Leftrightarrow (A \\vee B) \\wedge (A \\vee C)$"
   ]
  },
  {
   "cell_type": "code",
   "execution_count": 11,
   "metadata": {},
   "outputs": [
    {
     "name": "stdout",
     "output_type": "stream",
     "text": [
      "elementary statements: 3\n",
      "1: (0, 0, 0, 0, 1, 1, 1, 1)\n",
      "2: (0, 0, 1, 1, 0, 0, 1, 1)\n",
      "3: (0, 1, 0, 1, 0, 1, 0, 1)\n",
      "composed statement: True\n",
      "[0, 0, 0, 1, 1, 1, 1, 1]\n"
     ]
    }
   ],
   "source": [
    "constructions = (\n",
    "    lambda A, B, C: A or (B and C),\n",
    "    lambda A, B, C: (A or B) and (A or C)\n",
    ")\n",
    "\n",
    "print_statements(\n",
    "    elementaries,\n",
    "    check_constructions(constructions, elementaries)\n",
    ")"
   ]
  }
 ],
 "metadata": {
  "kernelspec": {
   "display_name": "Python 3",
   "language": "python",
   "name": "python3"
  },
  "language_info": {
   "codemirror_mode": {
    "name": "ipython",
    "version": 3
   },
   "file_extension": ".py",
   "mimetype": "text/x-python",
   "name": "python",
   "nbconvert_exporter": "python",
   "pygments_lexer": "ipython3",
   "version": "3.8.6"
  }
 },
 "nbformat": 4,
 "nbformat_minor": 4
}
