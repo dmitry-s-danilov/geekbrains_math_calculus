{
 "cells": [
  {
   "cell_type": "markdown",
   "metadata": {},
   "source": [
    "# Урок 2. Теория множеств. Математическая логика\n",
    "\n",
    "## Практическое задание"
   ]
  },
  {
   "cell_type": "markdown",
   "metadata": {},
   "source": [
    "### Задача 1\n",
    "\n",
    "Представить в виде несократимой рациональной дроби:\n",
    "- $ 0.(216) $\n",
    "- $ 1.0(01) $"
   ]
  },
  {
   "cell_type": "markdown",
   "metadata": {},
   "source": [
    "Найти:\n",
    "$ p \\in \\mathbb{Z}, q \\in \\mathbb{N} \\colon 0.(216) = \\frac{p}{q} $\n",
    "\n",
    "Решение:\n",
    "\n",
    "$ x = 0.(216) $\n",
    "\n",
    "$ 10^3 x = 10^3\\ 0.(216) $\n",
    "\n",
    "$ 10^3 x = 216.(216) $\n",
    "\n",
    "$ 10^3 x = 216 + 0.(216) $\n",
    "\n",
    "$ 10^3 x = 216 + x $\n",
    "\n",
    "$ 999 x = 216 $\n",
    "\n",
    "$ x = \\frac{216}{999} = \\frac{24}{111} $\n",
    "\n",
    "Ответ:\n",
    "$ 0.(216) = \\frac{24}{111} $"
   ]
  },
  {
   "cell_type": "code",
   "execution_count": 1,
   "metadata": {},
   "outputs": [
    {
     "name": "stdout",
     "output_type": "stream",
     "text": [
      "24 / 111 = 0.21621621621621623\n"
     ]
    }
   ],
   "source": [
    "p, q = 24, 111\n",
    "x = p / q\n",
    "print(f'{p} / {q} = {x}')"
   ]
  },
  {
   "cell_type": "markdown",
   "metadata": {},
   "source": [
    "Найти:\n",
    "$ p \\in \\mathbb{Z}, q \\in \\mathbb{N} \\colon 1.0(01) = \\frac{p}{q} $\n",
    "\n",
    "Решение:\n",
    "\n",
    "$ x = 1.0(01) $\n",
    "\n",
    "$ 10 x = 10\\ 1.0(01) $\n",
    "\n",
    "$ 10 x = 10.(01) $\n",
    "\n",
    "$ 10 x = 10 + 0.(01) $\n",
    "\n",
    "$ 10 x = 10 + y $\n",
    "\n",
    "$ x = \\frac{10 + y}{10} = 1 + \\frac{y}{10} $\n",
    "\n",
    "\n",
    "$ y = 0.(01) $\n",
    "\n",
    "$ 10^2 y = 10^2\\ 0.(01) $\n",
    "\n",
    "$ 10^2 y = 1.(01) $\n",
    "\n",
    "$ 10^2 y = 1 + 0.(01) $\n",
    "\n",
    "$ 10^2 y = 1 + y $\n",
    "\n",
    "$ 99 y = 1 $\n",
    "\n",
    "$ y = \\frac{1}{99} $\n",
    "\n",
    "\n",
    "\n",
    "$ x = 1 + \\frac{y}{10} = 1 + \\frac{1}{990} $\n",
    "\n",
    "Ответ:\n",
    "$ 1.0(01) = 1 + \\frac{1}{990} $"
   ]
  },
  {
   "cell_type": "code",
   "execution_count": 2,
   "metadata": {},
   "outputs": [
    {
     "name": "stdout",
     "output_type": "stream",
     "text": [
      "1 / 990 = 0.00101010101010101\n"
     ]
    }
   ],
   "source": [
    "p, q = 1, 990\n",
    "x = p / q\n",
    "print(f'{p} / {q} = {x}')"
   ]
  }
 ],
 "metadata": {
  "kernelspec": {
   "display_name": "Python 3",
   "language": "python",
   "name": "python3"
  },
  "language_info": {
   "codemirror_mode": {
    "name": "ipython",
    "version": 3
   },
   "file_extension": ".py",
   "mimetype": "text/x-python",
   "name": "python",
   "nbconvert_exporter": "python",
   "pygments_lexer": "ipython3",
   "version": "3.8.6"
  }
 },
 "nbformat": 4,
 "nbformat_minor": 4
}
