{
 "cells": [
  {
   "cell_type": "markdown",
   "metadata": {},
   "source": [
    "# Урок 2. Теория множеств. Математическая логика"
   ]
  },
  {
   "cell_type": "markdown",
   "metadata": {},
   "source": [
    "## Пример 1.2. Представление в виде обыкновенной дроби\n",
    "\n",
    "Представить в виде обыкновенной дроби:\n",
    "- $ 0.(11) $\n",
    "- $ 0.(12) $\n",
    "- $ 0.(13) $\n",
    "- $ 0.(18) $\n",
    "- $ 0.(19) $"
   ]
  },
  {
   "cell_type": "markdown",
   "metadata": {},
   "source": [
    "Найти:\n",
    "$ p \\in \\mathbb{Z}, q \\in \\mathbb{N} \\colon 0.(11) = \\frac{p}{q} $\n",
    "\n",
    "Решение:\n",
    "\n",
    "$ x = 0.(11) $\n",
    "\n",
    "$ 10^2 x = 10^2\\ 0.(1) $\n",
    "\n",
    "$ 10^2 x = 11.(1) $\n",
    "\n",
    "$ 10^2 x = 11 + 0.(1) $\n",
    "\n",
    "$ 10^2 x = 11 + x $\n",
    "\n",
    "$ 99 x = 11 $\n",
    "\n",
    "$ x = \\frac{11}{99} = \\frac{1}{9} $\n",
    "\n",
    "Ответ:\n",
    "$ 0.(11) = \\frac{1}{9} $"
   ]
  },
  {
   "cell_type": "code",
   "execution_count": 1,
   "metadata": {},
   "outputs": [
    {
     "name": "stdout",
     "output_type": "stream",
     "text": [
      "1 / 9 = 0.1111111111111111\n"
     ]
    }
   ],
   "source": [
    "p, q = 1, 9\n",
    "x = p / q\n",
    "print(f'{p} / {q} = {x}')"
   ]
  },
  {
   "cell_type": "markdown",
   "metadata": {},
   "source": [
    "Найти:\n",
    "$ p \\in \\mathbb{Z}, q \\in \\mathbb{N} \\colon 0.(12) = \\frac{p}{q} $\n",
    "\n",
    "Решение:\n",
    "\n",
    "$ x = 0.(12) $\n",
    "\n",
    "$ 10^2 x = 10^2\\ 0.(12) $\n",
    "\n",
    "$ 10^2 x = 12.(12) $\n",
    "\n",
    "$ 10^2 x = 12 + 0.(12) $\n",
    "\n",
    "$ 10^2 x = 12 + x $\n",
    "\n",
    "$ 99 x = 12 $\n",
    "\n",
    "$ x = \\frac{12}{99} = \\frac{4}{33} $\n",
    "\n",
    "Ответ:\n",
    "$ 0.(12) = \\frac{4}{33} $"
   ]
  },
  {
   "cell_type": "code",
   "execution_count": 2,
   "metadata": {},
   "outputs": [
    {
     "name": "stdout",
     "output_type": "stream",
     "text": [
      "4 / 33 = 0.12121212121212122\n"
     ]
    }
   ],
   "source": [
    "p, q = 4, 33\n",
    "x = p / q\n",
    "print(f'{p} / {q} = {x}')"
   ]
  },
  {
   "cell_type": "markdown",
   "metadata": {},
   "source": [
    "Найти:\n",
    "$ p \\in \\mathbb{Z}, q \\in \\mathbb{N} \\colon 0.(13) = \\frac{p}{q} $\n",
    "\n",
    "Решение:\n",
    "\n",
    "$ x = 0.(13) $\n",
    "\n",
    "$ 10^2 x = 10^2\\ 0.(13) $\n",
    "\n",
    "$ 10^2 x = 13.(13) $\n",
    "\n",
    "$ 10^2 x = 13 + 0.(13) $\n",
    "\n",
    "$ 10^2 x = 13 + x $\n",
    "\n",
    "$ 99 x = 13 $\n",
    "\n",
    "$ x = \\frac{13}{99} $\n",
    "\n",
    "Ответ:\n",
    "$ 0.(13) = \\frac{13}{99} $"
   ]
  },
  {
   "cell_type": "code",
   "execution_count": 3,
   "metadata": {},
   "outputs": [
    {
     "name": "stdout",
     "output_type": "stream",
     "text": [
      "13 / 99 = 0.13131313131313133\n"
     ]
    }
   ],
   "source": [
    "p, q = 13, 99\n",
    "x = p / q\n",
    "print(f'{p} / {q} = {x}')"
   ]
  },
  {
   "cell_type": "markdown",
   "metadata": {},
   "source": [
    "Найти:\n",
    "$ p \\in \\mathbb{Z}, q \\in \\mathbb{N} \\colon 0.(18) = \\frac{p}{q} $\n",
    "\n",
    "Решение:\n",
    "\n",
    "$ x = 0.(18) $\n",
    "\n",
    "$ 10^2 x = 10^2\\ 0.(18) $\n",
    "\n",
    "$ 10^2 x = 18.(18) $\n",
    "\n",
    "$ 10^2 x = 18 + 0.(18) $\n",
    "\n",
    "$ 10^2 x = 18 + x $\n",
    "\n",
    "$ 99 x = 18 $\n",
    "\n",
    "$ x = \\frac{18}{99} = \\frac{2}{11} $\n",
    "\n",
    "Ответ:\n",
    "$ 0.(18) = \\frac{2}{11} $"
   ]
  },
  {
   "cell_type": "code",
   "execution_count": 4,
   "metadata": {},
   "outputs": [
    {
     "name": "stdout",
     "output_type": "stream",
     "text": [
      "2 / 11 = 0.18181818181818182\n"
     ]
    }
   ],
   "source": [
    "p, q = 2, 11\n",
    "x = p / q\n",
    "print(f'{p} / {q} = {x}')"
   ]
  },
  {
   "cell_type": "markdown",
   "metadata": {},
   "source": [
    "Найти:\n",
    "$ p \\in \\mathbb{Z}, q \\in \\mathbb{N} \\colon 0.(19) = \\frac{p}{q} $\n",
    "\n",
    "Решение:\n",
    "\n",
    "$ x = 0.(19) $\n",
    "\n",
    "$ 10^2 x = 10^2\\ 0.(19) $\n",
    "\n",
    "$ 10^2 x = 19.(19) $\n",
    "\n",
    "$ 10^2 x = 19 + 0.(19) $\n",
    "\n",
    "$ 10^2 x = 19 + x $\n",
    "\n",
    "$ 99 x = 19 $\n",
    "\n",
    "$ x = \\frac{19}{99} $\n",
    "\n",
    "Ответ:\n",
    "$ 0.(19) = \\frac{19}{99} $"
   ]
  },
  {
   "cell_type": "code",
   "execution_count": 5,
   "metadata": {},
   "outputs": [
    {
     "name": "stdout",
     "output_type": "stream",
     "text": [
      "19 / 99 = 0.1919191919191919\n"
     ]
    }
   ],
   "source": [
    "p, q = 19, 99\n",
    "x = p / q\n",
    "print(f'{p} / {q} = {x}')"
   ]
  }
 ],
 "metadata": {
  "kernelspec": {
   "display_name": "Python 3",
   "language": "python",
   "name": "python3"
  },
  "language_info": {
   "codemirror_mode": {
    "name": "ipython",
    "version": 3
   },
   "file_extension": ".py",
   "mimetype": "text/x-python",
   "name": "python",
   "nbconvert_exporter": "python",
   "pygments_lexer": "ipython3",
   "version": "3.8.6"
  }
 },
 "nbformat": 4,
 "nbformat_minor": 4
}
